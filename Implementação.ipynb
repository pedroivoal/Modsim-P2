{
 "cells": [
  {
   "cell_type": "markdown",
   "metadata": {},
   "source": [
    "# Funções de transferência do calor"
   ]
  },
  {
   "cell_type": "markdown",
   "metadata": {},
   "source": [
    "## Fluxo de calor água ➞ ar"
   ]
  },
  {
   "cell_type": "markdown",
   "metadata": {},
   "source": [
    "h_ar = Coeficiente de transferência convectiva\n",
    "\n",
    "A_S = Area superficial do líquido(Área de contato entre água e ar)\n",
    "\n",
    "T_agua = Temperatura da água\n",
    "\n",
    "T_ar = Temperatura do ar (ambiente)"
   ]
  },
  {
   "cell_type": "code",
   "execution_count": null,
   "metadata": {},
   "outputs": [],
   "source": [
    "h_ar = 0\n",
    "A_S = 0\n",
    "\n",
    "def Fun_Qagua_ar(T_agua, T_ar):#falta colocar as temperaturas em função de Qagua_ar\n",
    "\n",
    "    ΔT = T_agua - T_ar\n",
    "    Qagua_ar = h_ar * A_S * ΔT\n",
    "\n",
    "    return Qagua_ar"
   ]
  },
  {
   "cell_type": "markdown",
   "metadata": {},
   "source": [
    "## Fluxo de calor água ➞ copo"
   ]
  },
  {
   "cell_type": "markdown",
   "metadata": {},
   "source": [
    "k_agua = Coeficiente de condutividade termica da água\n",
    "\n",
    "A_C = Area de contato entre água e copo\n",
    "\n",
    "d = Metade da grossura do copo\n",
    "\n",
    "T_agua = Temperatura da água\n",
    "\n",
    "T_copo = Temperatura do copo"
   ]
  },
  {
   "cell_type": "code",
   "execution_count": null,
   "metadata": {},
   "outputs": [],
   "source": [
    "k_agua = 0\n",
    "A_C = 0\n",
    "d = 0\n",
    "\n",
    "\n",
    "def Fun_Qagua_copo(T_agua, T_copo):#falta colocar as temperaturas em função de Qagua_copo\n",
    "    \n",
    "    ΔT = T_agua - T_copo\n",
    "    Qagua_copo = (k_agua * A_C * ΔT)/d\n",
    "\n",
    "    return Qagua_copo"
   ]
  },
  {
   "cell_type": "markdown",
   "metadata": {},
   "source": [
    "## Fluxo de calor copo ➞ ar"
   ]
  },
  {
   "cell_type": "markdown",
   "metadata": {},
   "source": [
    "k_copo = Coeficiente de condutividade termica do copo\n",
    "\n",
    "A_C = Area de contato entre copo e ar (supõe-se igual ao contato água copo)\n",
    "\n",
    "d = Metade da grossura do copo\n",
    "\n",
    "T_copo = Temperatura da água\n",
    "\n",
    "T_ar = Temperatura do copo"
   ]
  },
  {
   "cell_type": "code",
   "execution_count": null,
   "metadata": {},
   "outputs": [],
   "source": [
    "k_copo = 0\n",
    "A_C = 0\n",
    "d = 0\n",
    "\n",
    "def Fun_Qcopo_ar(T_copo, T_ar):\n",
    "\n",
    "    ΔT = T_copo - T_ar\n",
    "    Qcopo_ar = (k_copo * A_C * ΔT)/d\n",
    "    \n",
    "    return Qcopo_ar"
   ]
  }
 ],
 "metadata": {
  "language_info": {
   "name": "python"
  },
  "orig_nbformat": 4
 },
 "nbformat": 4,
 "nbformat_minor": 2
}
