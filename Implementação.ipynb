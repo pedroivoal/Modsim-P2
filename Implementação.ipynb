{
 "cells": [
  {
   "cell_type": "markdown",
   "metadata": {},
   "source": [
    "# Funções de transferência do calor"
   ]
  },
  {
   "cell_type": "markdown",
   "metadata": {},
   "source": [
    "----\n",
    "### Fluxo de calor água ➞ ar"
   ]
  },
  {
   "cell_type": "markdown",
   "metadata": {},
   "source": [
    "h_ar = Coeficiente de transferência convectiva\n",
    "\n",
    "A_S = Area superficial do líquido(Área de contato entre água e ar)\n",
    "\n",
    "T_agua = Temperatura da água\n",
    "\n",
    "T_ar = Temperatura do ar (ambiente)"
   ]
  },
  {
   "cell_type": "code",
   "execution_count": 1,
   "metadata": {},
   "outputs": [],
   "source": [
    "import math\n",
    "\n",
    "h_ar = 10\n",
    "A_S = math.pi * 3**2\n",
    "\n",
    "def Fun_Qagua_ar(T_agua, T_ar):#falta colocar as temperaturas em função de Qagua_ar\n",
    "\n",
    "    ΔT = T_agua - T_ar\n",
    "    Qagua_ar = h_ar * A_S * ΔT\n",
    "\n",
    "    return Qagua_ar"
   ]
  },
  {
   "cell_type": "markdown",
   "metadata": {},
   "source": [
    "----\n",
    "### Fluxo de calor água ➞ copo"
   ]
  },
  {
   "cell_type": "markdown",
   "metadata": {},
   "source": [
    "k_agua = Coeficiente de condutividade termica da água\n",
    "\n",
    "A_C = Area de contato entre água e copo\n",
    "\n",
    "d = Metade da grossura do copo\n",
    "\n",
    "T_agua = Temperatura da água\n",
    "\n",
    "T_copo = Temperatura do copo"
   ]
  },
  {
   "cell_type": "code",
   "execution_count": 2,
   "metadata": {},
   "outputs": [],
   "source": [
    "k_agua = 0.606\n",
    "A_C = 2* math.pi * 3 * 10\n",
    "d = 4\n",
    "\n",
    "\n",
    "def Fun_Qagua_copo(T_agua, T_copo):#falta colocar as temperaturas em função de Qagua_copo\n",
    "    \n",
    "    ΔT = T_agua - T_copo\n",
    "    Qagua_copo = (k_agua * A_C * ΔT)/d\n",
    "\n",
    "    return Qagua_copo"
   ]
  },
  {
   "cell_type": "markdown",
   "metadata": {},
   "source": [
    "----\n",
    "### Fluxo de calor copo ➞ ar"
   ]
  },
  {
   "cell_type": "markdown",
   "metadata": {},
   "source": [
    "k_copo = Coeficiente de condutividade termica do copo\n",
    "\n",
    "A_C = Area de contato entre copo e ar (supõe-se igual ao contato água copo)\n",
    "\n",
    "d = Metade da grossura do copo\n",
    "\n",
    "T_copo = Temperatura da água\n",
    "\n",
    "T_ar = Temperatura do copo"
   ]
  },
  {
   "cell_type": "code",
   "execution_count": 3,
   "metadata": {},
   "outputs": [],
   "source": [
    "k_copo = 0.8\n",
    "A_C = 2* math.pi * 3 * 10\n",
    "h = 10\n",
    "d = 4\n",
    "\n",
    "def Fun_Qcopo_ar(T_copo, T_ar):\n",
    "\n",
    "    ΔT = T_copo - T_ar\n",
    "    Qcopo_ar = (k_copo * A_C * ΔT)/d\n",
    "    \n",
    "    return Qcopo_ar"
   ]
  },
  {
   "cell_type": "code",
   "execution_count": null,
   "metadata": {},
   "outputs": [],
   "source": []
  }
 ],
 "metadata": {
  "interpreter": {
   "hash": "b9c1f4d1d82adc8373f3ee5edda97d372dcb495cb3c0b6cf4ac21c146c4af3c0"
  },
  "kernelspec": {
   "display_name": "Python 3.8.8 64-bit ('base': conda)",
   "name": "python3"
  },
  "language_info": {
   "codemirror_mode": {
    "name": "ipython",
    "version": 3
   },
   "file_extension": ".py",
   "mimetype": "text/x-python",
   "name": "python",
   "nbconvert_exporter": "python",
   "pygments_lexer": "ipython3",
   "version": "3.8.8"
  },
  "orig_nbformat": 4
 },
 "nbformat": 4,
 "nbformat_minor": 2
}
