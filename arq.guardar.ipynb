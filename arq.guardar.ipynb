{
 "cells": [
  {
   "cell_type": "code",
   "execution_count": null,
   "metadata": {},
   "outputs": [],
   "source": [
    "# Variável que guarda gráfico\n",
    "# arcoiris50, ax = plt.subplots()\n",
    "\n",
    "\n",
    "    # Controla quais temperaturas recebem legenda\n",
    "    # Plota gráficos\n",
    "    # if  i == 0 or i == 20 or i == 200:\n",
    "        \n",
    "    #     plt.plot(t_lista/3600, Ta_lista, label = (TiaC))\n",
    "\n",
    "    # elif i == 100:\n",
    "\n",
    "    #     plt.plot(t_lista/3600, Ta_lista, 'b' , label = ('50.0 $T_{ambiente}$'))\n",
    "    \n",
    "    # elif i == 40 or i == 160:\n",
    "\n",
    "    #     plt.plot(t_lista/3600, Ta_lista, label = '...')\n",
    "        \n",
    "    # elif i==60 or i == 80 or i == 140 or i == 120 or i == 160 or i == 180:\n",
    "        \n",
    "    #     plt.plot(t_lista/3600, Ta_lista)\n",
    "\n",
    "\n",
    "# Plota gráficos\n",
    "# plt.title('Várias Temperaturas Iniciais')\n",
    "# plt.ylabel('Temperatura (°C)')\n",
    "# plt.xlabel('Tempo (h)')\n",
    "# plt.legend()\n",
    "# plt.grid(True)\n",
    "# plt.show(True)\n",
    "# Cria arquivo png com o gráfico no PC\n",
    "# arcoiris50.savefig('6.Arco íris50.png',  format = 'png', dpi = 1200)"
   ]
  }
 ],
 "metadata": {
  "language_info": {
   "name": "python"
  },
  "orig_nbformat": 4
 },
 "nbformat": 4,
 "nbformat_minor": 2
}
