{
 "cells": [
  {
   "cell_type": "markdown",
   "metadata": {},
   "source": [
    "# Funções de transferência do calor"
   ]
  },
  {
   "cell_type": "markdown",
   "metadata": {},
   "source": [
    "----\n",
    "### Fluxo de calor água ➞ ar"
   ]
  },
  {
   "cell_type": "markdown",
   "metadata": {},
   "source": [
<<<<<<< Updated upstream
    "h_ar = Coeficiente de transferência convectiva\n",
=======
    "# Dimensões (m)\n",
    "r = 0                                       # Copo (raio)\n",
    "hc = 0                                      # Copo (altura)\n",
    "dc = 0                                      # Copo (espessura)*(1/2)\n",
    "\n",
    "# Áreas (m2)\n",
    "As = math.pi*r**2                           # Água (superfície)\n",
    "Ap = hc*2*math.pi*r                         # Copo (paredes externas)\n",
    "Ar = Ap                                     # Copo (paredes internas - vamos simplificar e igualá-las aqui)\n",
    "\n",
    "# Volumes (m3)\n",
    "vo = As*hc                                  # Água\n",
    "vr = hc*(As+(2*dc))                         # Recipiente\n",
    "\n",
    "# Densidades (kg/m3)\n",
    "rhoo = 920               # Óleo\n",
    "rhor = 7800              # Recipiente (aço)\n",
    "\n",
    "\n",
    "\n",
    "# h_ar = Coeficiente de transferência convectiva\n",
    "\n",
    "# A_S = Area superficial do líquido(Área de contato entre água e ar)\n",
    "\n",
    "# k_agua = Coeficiente de condutividade termica da água\n",
>>>>>>> Stashed changes
    "\n",
    "A_S = Area superficial do líquido(Área de contato entre água e ar)\n",
    "\n",
    "T_agua = Temperatura da água\n",
    "\n",
    "T_ar = Temperatura do ar (ambiente)"
   ]
  },
  {
   "cell_type": "code",
   "execution_count": null,
   "metadata": {},
   "outputs": [],
   "source": [
    "h_ar = 0\n",
    "A_S = 0\n",
    "\n",
    "def Fun_Qagua_ar(T_agua, T_ar):#falta colocar as temperaturas em função de Qagua_ar\n",
    "\n",
    "    ΔT = T_agua - T_ar\n",
    "    Qagua_ar = h_ar * A_S * ΔT\n",
    "\n",
    "    return Qagua_ar"
   ]
  },
  {
   "cell_type": "markdown",
   "metadata": {},
   "source": [
    "----\n",
    "### Fluxo de calor água ➞ copo"
   ]
  },
  {
   "cell_type": "markdown",
   "metadata": {},
   "source": [
    "k_agua = Coeficiente de condutividade termica da água\n",
    "\n",
    "A_C = Area de contato entre água e copo\n",
    "\n",
    "d = Metade da grossura do copo\n",
    "\n",
    "T_agua = Temperatura da água\n",
    "\n",
    "T_copo = Temperatura do copo"
   ]
  },
  {
   "cell_type": "code",
   "execution_count": null,
   "metadata": {},
   "outputs": [],
   "source": [
    "k_agua = 0.606\n",
    "A_C = 0\n",
    "d = 0\n",
    "\n",
    "\n",
    "def Fun_Qagua_copo(T_agua, T_copo):#falta colocar as temperaturas em função de Qagua_copo\n",
    "    \n",
    "    ΔT = T_agua - T_copo\n",
    "    Qagua_copo = (k_agua * A_C * ΔT)/d\n",
    "\n",
    "    return Qagua_copo"
   ]
  },
  {
   "cell_type": "markdown",
   "metadata": {},
   "source": [
    "----\n",
    "### Fluxo de calor copo ➞ ar"
   ]
  },
  {
   "cell_type": "markdown",
   "metadata": {},
   "source": [
    "k_copo = Coeficiente de condutividade termica do copo\n",
    "\n",
    "A_C = Area de contato entre copo e ar (supõe-se igual ao contato água copo)\n",
    "\n",
    "d = Metade da grossura do copo\n",
    "\n",
    "T_copo = Temperatura da água\n",
    "\n",
    "T_ar = Temperatura do copo"
   ]
  },
  {
   "cell_type": "code",
   "execution_count": null,
   "metadata": {},
   "outputs": [],
   "source": [
    "k_copo = 0.8\n",
    "A_C = 0\n",
    "d = 0\n",
    "\n",
    "def Fun_Qcopo_ar(T_copo, T_ar):\n",
    "\n",
    "    ΔT = T_copo - T_ar\n",
    "    Qcopo_ar = (k_copo * A_C * ΔT)/d\n",
    "    \n",
    "    return Qcopo_ar"
   ]
  }
 ],
 "metadata": {
  "language_info": {
   "name": "python"
  },
  "orig_nbformat": 4
 },
 "nbformat": 4,
 "nbformat_minor": 2
}

