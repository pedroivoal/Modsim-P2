{
 "cells": [
  {
   "cell_type": "markdown",
   "metadata": {},
   "source": [
    "# Insper - Modelagem e Simulação do Mundo Físico\n",
    "\n",
    "## Simulção de um copo de água esfriando/aquecendo no ambiente"
   ]
  },
  {
   "cell_type": "markdown",
   "metadata": {},
   "source": [
    "## Bibliotecas"
   ]
  },
  {
   "cell_type": "code",
   "execution_count": 186,
   "metadata": {},
   "outputs": [],
   "source": [
    "#Importa bibliotecas necessárias\n",
    "from scipy.integrate import odeint\n",
    "import numpy as np\n",
    "import matplotlib.pyplot as plt\n",
    "import math"
   ]
  },
  {
   "cell_type": "markdown",
   "metadata": {},
   "source": [
    "----\n",
    "## Parâmetros do modelo"
   ]
  },
  {
   "cell_type": "code",
   "execution_count": 249,
   "metadata": {},
   "outputs": [
    {
     "name": "stdout",
     "output_type": "stream",
     "text": [
      "Áreas: 9.621127501618743 9.621127501618743 212.21458374999054 212.21458374999054 221.8357112516093\n",
      "Volumes: 185.68776078124174 44.367142250321855\n",
      "Massas: 185.13069749889803 115.35456985083682\n"
     ]
    }
   ],
   "source": [
    "# Dimensões (m)\n",
    "r = 0.15                                # Copo (raio interno)\n",
    "h_copo = 0.28                           # Copo (altura)\n",
    "d_copo = 0.008/2                        # Copo (espessura)/2\n",
    "\n",
    "# Áreas (m2)\n",
    "As = math.pi*r**2                       # Água (superfície)\n",
    "Api = h_copo*2*math.pi*r                # Copo (paredes internas)\n",
    "Ape = Api                               # Copo (paredes externas)\n",
    "\n",
    "# Volumes (m3)\n",
    "v_agua = As*h_copo                      # Água\n",
    "v_copo = 2*d_copo*(Ape+As)              # Recipiente\n",
    "\n",
    "# Densidades (kg/m3)\n",
    "rho_agua = 997                          # Água\n",
    "rho_copo = 2600                         # Copo (vidro)\n",
    "\n",
    "# Massas (kg)\n",
    "m_agua = rho_agua*v_agua                # Água\n",
    "m_copo = rho_copo*v_copo                # Copo\n",
    "\n",
    "# Calores específicos (J/(kg.K))\n",
    "c_agua = 4190                           # Água\n",
    "c_copo = 840                            # Copo (vidro)\n",
    "\n",
    "# Coeficiente de condutividade térmica (W/(m.K))\n",
    "k_copo = 1.05                           # Copo (vidro)\n",
    "\n",
    "# Coeficientes de transferência convectiva (W/(m2.K))\n",
    "ha = 15                                 # Água ➞ ar\n",
    "hc = 12                                 # Copo ➞ ar\n",
    "\n",
    "#Temperaturas (K)\n",
    "T_ar = 26+273.15                        # Ambiente\n",
    "T_agua = 90+273.15                      # Água\n",
    "T_copo = T_agua                         # Copo"
   ]
  },
  {
   "cell_type": "markdown",
   "metadata": {},
   "source": [
    "----\n",
    "## Funções de transferência do calor"
   ]
  },
  {
   "cell_type": "markdown",
   "metadata": {},
   "source": [
    "### Fluxo de calor água ➞ ar"
   ]
  },
  {
   "cell_type": "code",
   "execution_count": 230,
   "metadata": {},
   "outputs": [],
   "source": [
    "# unidades SI\n",
    "def Fun_Qagua_ar(T_agua):\n",
    "\n",
    "    ΔT = T_agua - T_ar\n",
    "    Qagua_ar = ha * As * ΔT\n",
    "\n",
    "    return Qagua_ar"
   ]
  },
  {
   "cell_type": "markdown",
   "metadata": {},
   "source": [
    "### Fluxo de calor água ➞ copo"
   ]
  },
  {
   "cell_type": "code",
   "execution_count": 231,
   "metadata": {},
   "outputs": [],
   "source": [
    "# unidades SI\n",
    "def Fun_Qagua_copo(T_agua, T_copo):\n",
    "    \n",
    "    ΔT = T_agua - T_copo\n",
    "    Qagua_copo = (k_copo * Api * ΔT) / d_copo\n",
    "\n",
    "    return Qagua_copo"
   ]
  },
  {
   "cell_type": "markdown",
   "metadata": {},
   "source": [
    "### Fluxo de calor copo ➞ ar"
   ]
  },
  {
   "cell_type": "code",
   "execution_count": 232,
   "metadata": {},
   "outputs": [],
   "source": [
    "# unidades SI\n",
    "def Fun_Qcopo_ar(T_copo):\n",
    "\n",
    "    ΔT = T_copo - T_ar\n",
    "    Qcopo_ar = ΔT / (d_copo/(k_copo*Ape) + 1/(hc*Ape))\n",
    "\n",
    "    return Qcopo_ar"
   ]
  },
  {
   "cell_type": "markdown",
   "metadata": {},
   "source": [
    "----\n",
    "## 1° iteração"
   ]
  },
  {
   "cell_type": "code",
   "execution_count": 233,
   "metadata": {},
   "outputs": [],
   "source": [
    "# função usada pela odeint\n",
    "def modelo(x, lista_t_h):\n",
    "\n",
    "    T_agua = x[0]\n",
    "    T_copo = x[1]\n",
    "\n",
    "    dT_aguadt = -Fun_Qagua_ar(T_agua) - Fun_Qagua_copo(T_agua, T_copo) / (m_agua * c_agua)\n",
    "    dT_copodt = Fun_Qagua_copo(T_agua, T_copo) - Fun_Qcopo_ar(T_copo) / (m_copo * c_copo)\n",
    "\n",
    "    dxdt = [dT_aguadt, dT_copodt]    \n",
    "\n",
    "    return dxdt\n",
    "    "
   ]
  },
  {
   "cell_type": "markdown",
   "metadata": {},
   "source": [
    "----\n",
    "## Validação\n",
    "(incompleto)"
   ]
  },
  {
   "cell_type": "code",
   "execution_count": 255,
   "metadata": {},
   "outputs": [
    {
     "data": {
      "image/png": "[encoded data removed]",
      "text/plain": [
       "<Figure size 432x288 with 1 Axes>"
      ]
     },
     "metadata": {
      "needs_background": "light"
     },
     "output_type": "display_data"
    }
   ],
   "source": [
    "\n",
    "lista_t_s = np.arange(0, 3600 * 5, 1)  # tempo (s)\n",
    "lista_t_h = lista_t_s/3600               # tempo (h)\n",
    "\n",
    "x0 = [T_agua, T_copo]                    # temperatura (K)\n",
    "\n",
    "lista_x = odeint(modelo, x0, lista_t_h)  # temperaturas (K)\n",
    "\n",
    "lista_Ta = lista_x[:,0]-273.15           # temperaturas (°C)\n",
    "lista_Tc = lista_x[:,1]-273.15           # temperaturas (°C)\n",
    "\n",
    "validação, ax = plt.subplots()\n",
    "plt.plot(lista_t_h, lista_Ta, label = '$T_{água}$ (modelo)')\n",
    "# plt.plot(lista_t_h, lista_Tc, label = '$T_{copo}$ (modelo)')\n",
    "# plt.plot(lista_t_h, experimento, label = '$T_{água}$ (experimento)', 'ro')\n",
    "\n",
    "plt.title('Modelo vs Experimento')\n",
    "plt.xlabel('Tempo (h)')\n",
    "plt.ylabel('Temperatura (°C)')\n",
    "plt.legend()\n",
    "plt.grid(True)\n",
    "plt.show()\n",
    "validação.savefig('1°.Validação.png',  format = 'png', dpi = 1200)"
   ]
  },
  {
   "cell_type": "markdown",
   "metadata": {},
   "source": [
    "----\n",
    "## Gráfico comclusivo"
   ]
  },
  {
   "cell_type": "code",
   "execution_count": 213,
   "metadata": {},
   "outputs": [],
   "source": [
    "# acha a o tempo em que chega-se á temperatura de equilíbrio\n",
    "def T_equilibrio(lista_Ta, lista_t_h):\n",
    "    if lista_Ta[0] > T_ar-273.15:\n",
    "        i = 0\n",
    "        while lista_Ta[i] > 1.02*(T_ar-273.15):\n",
    "            i += 1\n",
    "        return lista_t_h[i]\n",
    "    else:\n",
    "        i = 0\n",
    "        while lista_Ta[i] < 1/1.02*(T_ar-273.15):\n",
    "            i += 1\n",
    "        return lista_t_h[i]"
   ]
  },
  {
   "cell_type": "code",
   "execution_count": 239,
   "metadata": {},
   "outputs": [
    {
     "name": "stdout",
     "output_type": "stream",
     "text": [
      "T0 da águal: 0.0°C Equilíbrio térmico: 8:20\n",
      "T0 da águal: 6.0°C Equilíbrio térmico: 7:47\n",
      "T0 da águal: 16.0°C Equilíbrio térmico: 6:18\n",
      "T0 da águal: 26.0°C Equilíbrio térmico: 0:0\n",
      "T0 da águal: 36.0°C Equilíbrio térmico: 6:16\n",
      "T0 da águal: 46.0°C Equilíbrio térmico: 7:44\n",
      "T0 da águal: 56.0°C Equilíbrio térmico: 8:36\n",
      "T0 da águal: 66.0°C Equilíbrio térmico: 9:12\n",
      "T0 da águal: 76.0°C Equilíbrio térmico: 9:41\n",
      "T0 da águal: 86.0°C Equilíbrio térmico: 10:4\n",
      "T0 da águal: 96.0°C Equilíbrio térmico: 10:24\n",
      "T0 da águal: 100.0°C Equilíbrio térmico: 10:31\n"
     ]
    },
    {
     "data": {
      "image/png": "[encoded data removed]",
      "text/plain": [
       "<Figure size 432x288 with 1 Axes>"
      ]
     },
     "metadata": {
      "needs_background": "light"
     },
     "output_type": "display_data"
    },
    {
     "data": {
      "image/png": "[encoded data removed]",
      "text/plain": [
       "<Figure size 432x288 with 1 Axes>"
      ]
     },
     "metadata": {
      "needs_background": "light"
     },
     "output_type": "display_data"
    }
   ],
   "source": [
    "\n",
    "lista_t_equilibrio = []\n",
    "lista_Ti_agua = np.arange(0+273.15, 100.1+273.15, 0.5)\n",
    "arcoiris, ax = plt.subplots()\n",
    "\n",
    "i = 0\n",
    "for Ti_agua in lista_Ti_agua:\n",
    "    Ti_copo = Ti_agua\n",
    "    x = [Ti_agua, Ti_copo]\n",
    "    lista_x = odeint(modelo, x, lista_t_h)\n",
    "    lista_Ta = lista_x[:,0]-273.15\n",
    "    lista_t_equilibrio.append(T_equilibrio(lista_Ta, lista_t_h))\n",
    "\n",
    "    # plota gráfico de esfriamento ou aquecimento da água em 12 diferentes temp. iniciais\n",
    "    if (i-12)%20 == 0 or i == 0 or i == 200:\n",
    "        T = (0.5*i)\n",
    "        t = T_equilibrio(lista_Ta, lista_t_h)\n",
    "        h = int(t)\n",
    "        min = int((t -  h)*60)\n",
    "        print('T0 da águal: {}°C Equilíbrio térmico: {}:{}'.format(T, h, min))\n",
    "        \n",
    "        plt.plot(lista_t_h, lista_Ta)\n",
    "        \n",
    "    i += 1\n",
    "\n",
    "\n",
    "plt.title('Temperaturas iniciais variadas')\n",
    "plt.xlabel('Tempo (h)')\n",
    "plt.ylabel('Temperatura (°C)')\n",
    "plt.grid(True)\n",
    "plt.show()\n",
    "arcoiris.savefig('2°Arco íris.png',  format = 'png', dpi = 1200)\n",
    "\n",
    "conclusivo, ax = plt.subplots()\n",
    "# plota gráfico conclusivo\n",
    "plt.plot((lista_Ti_agua-273.15), lista_t_equilibrio)\n",
    "plt.title('Gráfico conclusivo')\n",
    "plt.xlabel('Temperatura inicial (°C)')\n",
    "plt.ylabel('Tempo para esfriar (h)')\n",
    "plt.grid(True)\n",
    "plt.show()\n",
    "conclusivo.savefig('3°Conclusivo.png',  format = 'png', dpi = 1200)"
   ]
  },
  {
   "cell_type": "markdown",
   "metadata": {},
   "source": [
    "----\n",
    "## Fontes\n",
    "\n",
    "- Densidade da água: https://www.engineeringtoolbox.com/water-density-specific-weight-d_595.html\n",
    "- Densidade do vifro: https://www.engineeringtoolbox.com/density-solids-d_1265.html\n",
    "- Calor especifico da água: https://www.engineeringtoolbox.com/specific-heat-fluids-d_151.html\n",
    "- Calor especifico da vidro: https://www.engineeringtoolbox.com/specific-heat-solids-d_154.html\n",
    "- Coeficiente condutividade térmica do vidro: https://www.engineeringtoolbox.com/thermal-conductivity-d_429.html\n",
    "- Coeficiente de transferência convectiva do ar: https://www.engineeringtoolbox.com/overall-heat-transfer-coefficient-d_434.html"
   ]
  }
 ],
 "metadata": {
  "interpreter": {
   "hash": "80f5475e7f540e4812421e90046f8f2fb6df22a0a5fff46ebf3b532238588d40"
  },
  "kernelspec": {
   "display_name": "Python 3.8.8 64-bit ('base': conda)",
   "name": "python3"
  },
  "language_info": {
   "codemirror_mode": {
    "name": "ipython",
    "version": 3
   },
   "file_extension": ".py",
   "mimetype": "text/x-python",
   "name": "python",
   "nbconvert_exporter": "python",
   "pygments_lexer": "ipython3",
   "version": "3.8.8"
  },
  "orig_nbformat": 4
 },
 "nbformat": 4,
 "nbformat_minor": 2
}
