{
 "cells": [
  {
   "cell_type": "markdown",
   "metadata": {},
   "source": [
    "# Bibliotecas"
   ]
  },
  {
   "cell_type": "code",
   "execution_count": null,
   "metadata": {},
   "outputs": [],
   "source": [
    "#Importa bibliotecas necessárias\n",
    "from scipy.integrate import odeint\n",
    "import numpy as np\n",
    "import matplotlib.pyplot as plt\n",
    "import math"
   ]
  },
  {
   "cell_type": "markdown",
   "metadata": {},
   "source": [
    "---\n",
    "# Parâmetros do modelo"
   ]
  },
  {
   "cell_type": "code",
   "execution_count": null,
   "metadata": {},
   "outputs": [],
   "source": [
    "# Dimensões (m)\n",
    "r = 0                                   # Copo (raio interno)\n",
    "h_copo = 0                              # Copo (altura)\n",
    "d_copo = 0/2                            # Copo (espessura)/2\n",
    "\n",
    "# Áreas (m2)\n",
    "As = math.pi*r**2                       # Água (superfície)\n",
    "Api = h_copo*2*math.pi*r                # Copo (paredes internas)\n",
    "Ape = Api                               # Copo (paredes externas)\n",
    "\n",
    "# Volumes (m3)\n",
    "v_agua = As*h_copo                      # Água\n",
    "v_copo = 2*d_copo*(Ape+As)              # Recipiente\n",
    "\n",
    "# Densidades (kg/m3)\n",
    "rho_agua = 0                            # Água\n",
    "rho_copo = 0                            # Copo (vidro)\n",
    "\n",
    "# Massas (kg)\n",
    "m_agua = rho_agua*v_agua                # Água\n",
    "m_copo = rho_copo*v_copo                # Copo\n",
    "\n",
    "# Calores específicos (J/(kg.K))\n",
    "c_agua = 0                              # Água\n",
    "c_copo = 0                              # Copo (vidro)\n",
    "\n",
    "# Coeficiente de condutividade térmica (W/(m.K))\n",
    "k_copo = 0                              # Copo (vidro)\n",
    "\n",
    "# Coeficientes de transferência convectiva (W/(m2.K))\n",
    "ha = 0                                  # Água ➞ ar\n",
    "hc = 0                                  # Copo ➞ ar\n",
    "\n",
    "#Temperaturas (K)\n",
    "T_ar = 26+273.1                         # Ambiente\n",
    "T_agua = 90                             # Água\n",
    "T_copo = 90                             # Copo"
   ]
  },
  {
   "cell_type": "markdown",
   "metadata": {},
   "source": [
    "---\n",
    "# Funções de transferência do calor"
   ]
  },
  {
   "cell_type": "markdown",
   "metadata": {},
   "source": [
    "## Fluxo de calor água ➞ ar"
   ]
  },
  {
   "cell_type": "code",
   "execution_count": null,
   "metadata": {},
   "outputs": [],
   "source": [
    "\n",
    "def Fun_Qagua_ar(T_agua):\n",
    "\n",
    "    ΔT = T_agua - T_ar\n",
    "    Qagua_ar = ha * As * ΔT\n",
    "\n",
    "    return Qagua_ar"
   ]
  },
  {
   "cell_type": "markdown",
   "metadata": {},
   "source": [
    "----\n",
    "## Fluxo de calor água ➞ copo"
   ]
  },
  {
   "cell_type": "code",
   "execution_count": null,
   "metadata": {},
   "outputs": [],
   "source": [
    "\n",
    "def Fun_Qagua_copo(T_agua, T_copo):\n",
    "    \n",
    "    ΔT = T_agua - T_copo\n",
    "    Qagua_copo = (k_copo * Api * ΔT) / d_copo\n",
    "\n",
    "    return Qagua_copo"
   ]
  },
  {
   "cell_type": "markdown",
   "metadata": {},
   "source": [
    "----\n",
    "## Fluxo de calor copo ➞ ar"
   ]
  },
  {
   "cell_type": "code",
   "execution_count": null,
   "metadata": {},
   "outputs": [],
   "source": [
    "\n",
    "def Fun_Qcopo_ar(T_copo):\n",
    "\n",
    "    ΔT = T_copo - T_ar\n",
    "    Qcopo_ar = ΔT / ((d_copo / (k_copo * Ape)) + (1 / (hc * Ape)))\n",
    "    \n",
    "    return Qcopo_ar"
   ]
  },
  {
   "cell_type": "markdown",
   "metadata": {},
   "source": [
    "---\n",
    "# Implemetação"
   ]
  },
  {
   "cell_type": "code",
   "execution_count": null,
   "metadata": {},
   "outputs": [],
   "source": [
    "\n",
    "def modelo(x, lista_t_h):\n",
    "\n",
    "    T_agua = x[0]\n",
    "    T_copo = x[1]\n",
    "\n",
    "    dT_aguadt = -Fun_Qagua_ar(T_agua) - Fun_Qagua_copo(T_agua, T_copo) / (m_agua * c_agua)\n",
    "    dT_copodt = Fun_Qagua_copo(T_agua, T_copo) - Fun_Qcopo_ar(T_copo) / (m_copo * c_copo)\n",
    "\n",
    "    dxdt = [dT_aguadt, dT_copodt]    \n",
    "\n",
    "    return dxdt\n",
    "    "
   ]
  },
  {
   "cell_type": "code",
   "execution_count": null,
   "metadata": {},
   "outputs": [],
   "source": [
    "\n",
    "lista_t_s = np.arange(0, 7200, 20)  # tempo (s)\n",
    "lista_t_h = lista_t_s/3600          # tempo (h)\n",
    "\n",
    "x0 = [T_agua, T_copo]\n",
    "\n",
    "lista_x = odeint(modelo, x0, lista_t_h)\n",
    "\n",
    "lista_Ta = lista_x[:,0]-273.15\n",
    "lista_Tc = lista_x[:,1]-273.15\n",
    "\n",
    "plt.plot(lista_t_h, lista_Ta, label = '$T_água$ (modelo)')\n",
    "plt.plot(lista_t_h, lista_Tc, label = '$T_copo$ (modelo)')\n",
    "# plt.plot(lista_t_h, experimento, '$T_água$ (experimento)')\n",
    "\n",
    "plt.title('Modelo vs Experimento')\n",
    "plt.xlabel('Tempo (h)')\n",
    "plt.ylabel('Temperatura (°C)')\n",
    "plt.legend()\n",
    "plt.grid(True)\n",
    "plt.show()"
   ]
  }
 ],
 "metadata": {
  "language_info": {
   "name": "python"
  },
  "orig_nbformat": 4
 },
 "nbformat": 4,
 "nbformat_minor": 2
}
