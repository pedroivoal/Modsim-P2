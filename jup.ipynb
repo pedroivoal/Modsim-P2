{
 "cells": [
  {
   "cell_type": "markdown",
   "metadata": {},
   "source": [
    "# Bibliotecas"
   ]
  },
  {
   "cell_type": "code",
   "execution_count": null,
   "metadata": {},
   "outputs": [],
   "source": [
    "#Importa bibliotecas necessárias\n",
    "from scipy.integrate import odeint\n",
    "import numpy as np\n",
    "import matplotlib.pyplot as plt\n",
    "import math"
   ]
  },
  {
   "cell_type": "markdown",
   "metadata": {},
   "source": [
    "---\n",
    "# Parâmetros do modelo"
   ]
  },
  {
   "cell_type": "code",
   "execution_count": null,
   "metadata": {},
   "outputs": [],
   "source": [
    "# Dimensões (m)\n",
    "r = 0                                   # Copo (raio interno)\n",
    "h_copo = 0                              # Copo (altura)\n",
    "d_copo = 0/2                            # Copo (espessura)/2\n",
    "\n",
    "# Áreas (m2)\n",
    "As = math.pi*r**2                       # Água (superfície)\n",
    "Api = h_copo*2*math.pi*r                # Copo (paredes internas)\n",
    "Ape = Api                               # Copo (paredes externas)\n",
    "\n",
    "# Volumes (m3)\n",
    "v_agua = As*h_copo                      # Água\n",
    "v_copo = 2*d_copo*(Ape+As)              # Recipiente\n",
    "\n",
    "# Densidades (kg/m3)\n",
    "rho_agua = 0                            # Água\n",
    "rho_copo = 0                            # Copo (vidro)\n",
    "\n",
    "# Massas (kg)\n",
    "m_agua = rho_agua*v_agua                # Água\n",
    "m_copo = rho_copo*v_copo                # Copo\n",
    "\n",
    "# Calores específicos (J/(kg.K))\n",
    "c_agua = 0                              # Água\n",
    "c_copo = 0                              # Copo (vidro)\n",
    "\n",
    "# Coeficiente de condutividade térmica (W/(m.K))\n",
    "k_copo = 0                              # Copo (vidro)\n",
    "\n",
    "# Coeficientes de transferência convectiva (W/(m2.K))\n",
    "ha = 0                                  # Água ➞ ar\n",
    "hc = 0                                  # Copo ➞ ar\n",
    "\n",
    "#Temperaturas (K)\n",
    "T_ar = 26+273.1                         # Ambiente\n",
    "T_agua = 90+273.15                      # Água\n",
    "T_copo = T_agua                         # Copo"
   ]
  },
  {
   "cell_type": "markdown",
   "metadata": {},
   "source": [
    "---\n",
    "# Funções de transferência do calor"
   ]
  },
  {
   "cell_type": "markdown",
   "metadata": {},
   "source": [
    "## Fluxo de calor água ➞ ar"
   ]
  },
  {
   "cell_type": "code",
   "execution_count": null,
   "metadata": {},
   "outputs": [],
   "source": [
    "\n",
    "def Fun_Qagua_ar(T_agua):\n",
    "\n",
    "    ΔT = T_agua - T_ar\n",
    "    Qagua_ar = ha * As * ΔT\n",
    "\n",
    "    return Qagua_ar"
   ]
  },
  {
   "cell_type": "markdown",
   "metadata": {},
   "source": [
    "----\n",
    "## Fluxo de calor água ➞ copo"
   ]
  },
  {
   "cell_type": "code",
   "execution_count": null,
   "metadata": {},
   "outputs": [],
   "source": [
    "\n",
    "def Fun_Qagua_copo(T_agua, T_copo):\n",
    "    \n",
    "    ΔT = T_agua - T_copo\n",
    "    Qagua_copo = (k_copo * Api * ΔT) / d_copo\n",
    "\n",
    "    return Qagua_copo"
   ]
  },
  {
   "cell_type": "markdown",
   "metadata": {},
   "source": [
    "----\n",
    "## Fluxo de calor copo ➞ ar"
   ]
  },
  {
   "cell_type": "code",
   "execution_count": null,
   "metadata": {},
   "outputs": [],
   "source": [
    "\n",
    "def Fun_Qcopo_ar(T_copo):\n",
    "\n",
    "    ΔT = T_copo - T_ar\n",
    "    Qcopo_ar = ΔT / ((d_copo / (k_copo * Ape)) + (1 / (hc * Ape)))\n",
    "    \n",
    "    return Qcopo_ar"
   ]
  },
  {
   "cell_type": "markdown",
   "metadata": {},
   "source": [
    "---\n",
    "# Implemetação"
   ]
  },
  {
   "cell_type": "code",
   "execution_count": null,
   "metadata": {},
   "outputs": [],
   "source": [
    "# função usada pela odeint\n",
    "def modelo(x, lista_t_h):\n",
    "\n",
    "    T_agua = x[0]\n",
    "    T_copo = x[1]\n",
    "\n",
    "    dT_aguadt = -Fun_Qagua_ar(T_agua) - Fun_Qagua_copo(T_agua, T_copo) / (m_agua * c_agua)\n",
    "    dT_copodt = Fun_Qagua_copo(T_agua, T_copo) - Fun_Qcopo_ar(T_copo) / (m_copo * c_copo)\n",
    "\n",
    "    dxdt = [dT_aguadt, dT_copodt]    \n",
    "\n",
    "    return dxdt\n",
    "    "
   ]
  },
  {
   "cell_type": "markdown",
   "metadata": {},
   "source": [
    "---\n",
    "# Validação"
   ]
  },
  {
   "cell_type": "code",
   "execution_count": 2,
   "metadata": {},
   "outputs": [
    {
     "ename": "NameError",
     "evalue": "name 'np' is not defined",
     "output_type": "error",
     "traceback": [
      "\u001b[1;31m---------------------------------------------------------------------------\u001b[0m",
      "\u001b[1;31mNameError\u001b[0m                                 Traceback (most recent call last)",
      "\u001b[1;32m<ipython-input-2-f3fdb64a12a2>\u001b[0m in \u001b[0;36m<module>\u001b[1;34m\u001b[0m\n\u001b[1;32m----> 1\u001b[1;33m \u001b[0mlista_t_s\u001b[0m \u001b[1;33m=\u001b[0m \u001b[0mnp\u001b[0m\u001b[1;33m.\u001b[0m\u001b[0marange\u001b[0m\u001b[1;33m(\u001b[0m\u001b[1;36m0\u001b[0m\u001b[1;33m,\u001b[0m \u001b[1;36m3600\u001b[0m \u001b[1;33m*\u001b[0m \u001b[1;36m24\u001b[0m\u001b[1;33m,\u001b[0m \u001b[1;36m20\u001b[0m\u001b[1;33m)\u001b[0m  \u001b[1;31m# tempo (s)\u001b[0m\u001b[1;33m\u001b[0m\u001b[1;33m\u001b[0m\u001b[0m\n\u001b[0m\u001b[0;32m      2\u001b[0m \u001b[0mlista_t_h\u001b[0m \u001b[1;33m=\u001b[0m \u001b[0mlista_t_s\u001b[0m\u001b[1;33m/\u001b[0m\u001b[1;36m3600\u001b[0m          \u001b[1;31m# tempo (h)\u001b[0m\u001b[1;33m\u001b[0m\u001b[1;33m\u001b[0m\u001b[0m\n\u001b[0;32m      3\u001b[0m \u001b[1;33m\u001b[0m\u001b[0m\n\u001b[0;32m      4\u001b[0m \u001b[0mx0\u001b[0m \u001b[1;33m=\u001b[0m \u001b[1;33m[\u001b[0m\u001b[0mT_agua\u001b[0m\u001b[1;33m,\u001b[0m \u001b[0mT_copo\u001b[0m\u001b[1;33m]\u001b[0m\u001b[1;33m\u001b[0m\u001b[1;33m\u001b[0m\u001b[0m\n\u001b[0;32m      5\u001b[0m \u001b[1;33m\u001b[0m\u001b[0m\n",
      "\u001b[1;31mNameError\u001b[0m: name 'np' is not defined"
     ]
    }
   ],
   "source": [
    "\n",
    "lista_t_s = np.arange(0, 3600 * 24, 20)  # tempo (s)\n",
    "lista_t_h = lista_t_s/3600          # tempo (h)\n",
    "\n",
    "x0 = [T_agua, T_copo]\n",
    "\n",
    "lista_x = odeint(modelo, x0, lista_t_h)\n",
    "\n",
    "lista_Ta = lista_x[:,0]-273.15\n",
    "lista_Tc = lista_x[:,1]-273.15\n",
    "\n",
    "plt.plot(lista_t_h, lista_Ta, label = '$T_água$ (modelo)')\n",
    "plt.plot(lista_t_h, lista_Tc, label = '$T_copo$ (modelo)')\n",
    "# plt.plot(lista_t_h, experimento, '$T_água$ (experimento)')\n",
    "\n",
    "plt.title('Modelo vs Experimento')\n",
    "plt.xlabel('Tempo (h)')\n",
    "plt.ylabel('Temperatura (°C)')\n",
    "plt.legend()\n",
    "plt.grid(True)\n",
    "plt.show()\n",
    "\n",
    "# Hora em que T_água = 1.002*T_ar\n",
    "# print('Temperatura da água entre é 2% maior que a do ambiente no hora',T_equilibrio(lista_Ta, lista_t_h))"
   ]
  },
  {
   "cell_type": "markdown",
   "metadata": {},
   "source": [
    "---\n",
    "# Gráfico comclusivo"
   ]
  },
  {
   "cell_type": "code",
   "execution_count": 1,
   "metadata": {},
   "outputs": [],
   "source": [
    "# função usada para achar tempo de equilíbrio\n",
    "def T_equilibrio(lista_Ta, lista_t_h):\n",
    "    if lista_Ta[0] > T_ar-273.15:\n",
    "        i = 0\n",
    "        while lista_Ta[i] > 1.05*(T_ar-273.15):\n",
    "            i += 1\n",
    "        return lista_t_h[i]\n",
    "    else:\n",
    "        i = 0\n",
    "        while lista_Ta[i] < 0.98*(T_ar-273.15):\n",
    "            i += 1\n",
    "        return lista_t_h[i]"
   ]
  },
  {
   "cell_type": "code",
   "execution_count": null,
   "metadata": {},
   "outputs": [],
   "source": [
    "\n",
    "lista_t_equilibrio = []\n",
    "lista_Ti_agua = np.arange(0.1+273.15, 95.1+273.15, 5)\n",
    "\n",
    "for Ti_agua in lista_Ti_agua:\n",
    "    Ti_copo = Ti_agua\n",
    "    x = [Ti_agua, Ti_copo]\n",
    "    lista_x = odeint(modelo, x, lista_t_h)\n",
    "    lista_Ta = lista_x[:,0]-273.15\n",
    "    lista_t_equilibrio.append(T_equilibrio(lista_Ta, lista_t_h))\n",
    "    plt.plot(lista_t_h, lista_Ta)\n",
    "\n",
    "plt.title('Temperaturas iniciais variadas')\n",
    "plt.xlabel('Tempo (h)')\n",
    "plt.ylabel('Temperatura (°C)')\n",
    "plt.grid(True)\n",
    "plt.show()\n",
    "    \n",
    "lista_t_equilibrio = []\n",
    "lista_Ti_agua = np.arange(0.1+273.15, 95.1+273.15, 0.5)\n",
    "\n",
    "for Ti_agua in lista_Ti_agua:\n",
    "    Ti_copo = Ti_agua\n",
    "    x = [Ti_agua, Ti_copo]\n",
    "    lista_x = odeint(modelo, x, lista_t_h)\n",
    "    lista_Ta = lista_x[:,0]-273.15\n",
    "    lista_t_equilibrio.append(T_equilibrio(lista_Ta, lista_t_h))\n",
    "\n",
    "\n",
    "plt.plot((lista_Ti_agua-273.15), lista_t_equilibrio)\n",
    "#plt.plot(lista_t_h, experimento, '$T_água$ (experimento)')\n",
    "\n",
    "plt.title('Tempo de equilibrio térmico')\n",
    "plt.xlabel('Temperatura inicial (°C)')\n",
    "plt.ylabel('Tempo (h)')\n",
    "plt.grid(True)\n",
    "plt.show()"
   ]
  }
 ],
 "metadata": {
  "interpreter": {
   "hash": "80f5475e7f540e4812421e90046f8f2fb6df22a0a5fff46ebf3b532238588d40"
  },
  "kernelspec": {
   "display_name": "Python 3.8.8 64-bit ('base': conda)",
   "name": "python3"
  },
  "language_info": {
   "codemirror_mode": {
    "name": "ipython",
    "version": 3
   },
   "file_extension": ".py",
   "mimetype": "text/x-python",
   "name": "python",
   "nbconvert_exporter": "python",
   "pygments_lexer": "ipython3",
   "version": "3.8.8"
  },
  "orig_nbformat": 4
 },
 "nbformat": 4,
 "nbformat_minor": 2
}
