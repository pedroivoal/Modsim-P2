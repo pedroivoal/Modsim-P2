{
 "cells": [
  {
   "cell_type": "markdown",
   "metadata": {},
   "source": [
    "# Simulação das etapas de aquecimento caseiro do leite"
   ]
  },
  {
   "cell_type": "markdown",
   "metadata": {},
   "source": [
    "## Descongelamento"
   ]
  },
  {
   "cell_type": "markdown",
   "metadata": {},
   "source": [
    "### Bibliotecas"
   ]
  },
  {
   "cell_type": "code",
   "execution_count": 1,
   "metadata": {},
   "outputs": [],
   "source": [
    "# Importa bibliotecas necessárias\n",
    "from scipy.integrate import odeint\n",
    "import numpy as np\n",
    "import matplotlib.pyplot as plt\n",
    "from math import *"
   ]
  },
  {
   "cell_type": "markdown",
   "metadata": {},
   "source": [
    "### Parâmetros"
   ]
  },
  {
   "cell_type": "code",
   "execution_count": null,
   "metadata": {},
   "outputs": [],
   "source": [
    "# Dimensões (m)\n",
    "r = 0.0305               # Recipiente (raio interno)\n",
    "hr = 0.09                # Recipiente (altura)\n",
    "dr = 0.002/2             # Recipiente (espessura)  (1/2)\n",
    "\n",
    "# Áreas (m²)\n",
    "As = pi*r**2             # Água (superfície)\n",
    "Ap = 2*pi*r*hr           # Recipiente (paredes externas)\n",
    "Ar = Ap                  # Recipiente (paredes internas)\n",
    "\n",
    "# Volumes (m³)\n",
    "va = As*hr               # Água\n",
    "vr = (As+Ap)*(2*dr)      # Recipiente\n",
    "\n",
    "# Densidades (kg/m³)\n",
    "rhoa = 997               # Água\n",
    "rhor = 2500              # Recipiente (vidro)\n",
    "\n",
    "# Massas (kg)\n",
    "ma = rhoa*va             # Água\n",
    "mr = rhor*vr             # Recipiente (vidro)\n",
    "\n",
    "# Calores específicos (J/(kg.K))\n",
    "ca = 4180                # Água\n",
    "cr = 812                 # Recipiente (vidro)\n",
    "\n",
    "# Coeficientes de condutividade térmica (W/(m.K))\n",
    "kr = 1.05                # Recipiente (vidro)\n",
    "\n",
    "# Coeficiente de transferência convectiva (W/(m².K))\n",
    "hs = 15                  # Água para o ar\n",
    "hp = 15                  # Recipiente para o ar\n",
    "\n",
    "#Temperaturas (K)\n",
    "Tar = 30.5+273.15        # Ambiente\n",
    "Ta = 80+273.15           # Água\n",
    "Tr = 80+273.15           # Recipiente"
   ]
  },
  {
   "cell_type": "markdown",
   "metadata": {},
   "source": [
    "## Aquecimento"
   ]
  },
  {
   "cell_type": "markdown",
   "metadata": {},
   "source": [
    "## Resfriamento no ambinete"
   ]
  },
  {
   "cell_type": "markdown",
   "metadata": {},
   "source": [
    "### Parâmetros\n"
   ]
  },
  {
   "cell_type": "code",
   "execution_count": null,
   "metadata": {},
   "outputs": [],
   "source": [
    "# Dimensões (m)\n",
    "r = 0.216                # Recipiente (raio interno)\n",
    "hr = 0.09                # Recipiente (altura)\n",
    "dr = 0.001/2             # Recipiente (espessura)  (1/2)\n",
    "\n",
    "# Áreas (m²)\n",
    "As = pi*r**2             # Leite (superfície)\n",
    "Apl = 2*pi*r*hr          # Recipiente (paredes externas laterais)\n",
    "Ap = As + Apl            # Recipiente (paredes externas laterais + base)\n",
    "Ar = Ap\n",
    "\n",
    "# Volumes (m³)\n",
    "vl = 0.002               # Leite\n",
    "vr = (As+Ap)*(2*dr)      # Recipiente\n",
    "\n",
    "# Densidades (kg/m³)\n",
    "rhoa = 997               # Leite\n",
    "rhor = 2500              # Recipiente (vidro)\n",
    "\n",
    "# Massas (kg)\n",
    "ma = rhoa*va             # Leite\n",
    "mr = rhor*vr             # Recipiente (vidro)\n",
    "\n",
    "# Calores específicos (J/(kg.K))\n",
    "ca = 4180                # Leite\n",
    "cr = 812                 # Recipiente (vidro)\n",
    "\n",
    "# Coeficientes de condutividade térmica (W/(m.K))\n",
    "kr = 1.05                # Recipiente (vidro)\n",
    "\n",
    "# Coeficiente de transferência convectiva (W/(m².K))\n",
    "hs = 15                  # Leite para o ar\n",
    "hp = 15                  # Recipiente para o ar\n",
    "\n",
    "#Temperaturas (K)\n",
    "Tar = 30.5+273.15        # Ambiente\n",
    "Ta = 80+273.15           # Leite\n",
    "Tr = 80+273.15           # Recipiente"
   ]
  },
  {
   "cell_type": "markdown",
   "metadata": {},
   "source": [
    "### Modelo"
   ]
  },
  {
   "cell_type": "code",
   "execution_count": null,
   "metadata": {},
   "outputs": [],
   "source": [
    "def modelo_resfriamento(x, t):\n",
    "\n",
    "    Tl = x[0]\n",
    "    Tr = x[1]"
   ]
  },
  {
   "cell_type": "markdown",
   "metadata": {},
   "source": [
    "## Resfriamento na geladeira"
   ]
  }
 ],
 "metadata": {
  "interpreter": {
   "hash": "74ab7c6ffe6706754a8af46cc4d18eebe476c74ce21a19282f620e1b1e9919fe"
  },
  "kernelspec": {
   "display_name": "Python 3.8.8 64-bit ('base': conda)",
   "language": "python",
   "name": "python3"
  },
  "language_info": {
   "codemirror_mode": {
    "name": "ipython",
    "version": 3
   },
   "file_extension": ".py",
   "mimetype": "text/x-python",
   "name": "python",
   "nbconvert_exporter": "python",
   "pygments_lexer": "ipython3",
   "version": "3.8.8"
  },
  "orig_nbformat": 4
 },
 "nbformat": 4,
 "nbformat_minor": 2
}
